{
 "cells": [
  {
   "cell_type": "code",
   "execution_count": 62,
   "metadata": {},
   "outputs": [],
   "source": [
    "import pandas as pd\n",
    "import numpy as np\n",
    "import seaborn as sns\n",
    "import matplotlib.pyplot as plt\n",
    "%matplotlib inline\n",
    "import datetime\n",
    "\n",
    "\n",
    "from sklearn.model_selection import train_test_split\n",
    "from sklearn.neighbors import KNeighborsClassifier\n",
    "from sklearn.linear_model import LogisticRegression\n",
    "from sklearn import metrics\n",
    "from sklearn.metrics import classification_report,confusion_matrix\n",
    "from sklearn.tree import DecisionTreeClassifier\n",
    "\n",
    "\n"
   ]
  },
  {
   "cell_type": "code",
   "execution_count": 64,
   "metadata": {},
   "outputs": [],
   "source": [
    "#uploading kickstarter data\n",
    "df = pd.read_csv('ks-projects-201801.csv')"
   ]
  },
  {
   "cell_type": "code",
   "execution_count": 66,
   "metadata": {},
   "outputs": [
    {
     "data": {
      "text/html": [
       "<div>\n",
       "<style scoped>\n",
       "    .dataframe tbody tr th:only-of-type {\n",
       "        vertical-align: middle;\n",
       "    }\n",
       "\n",
       "    .dataframe tbody tr th {\n",
       "        vertical-align: top;\n",
       "    }\n",
       "\n",
       "    .dataframe thead th {\n",
       "        text-align: right;\n",
       "    }\n",
       "</style>\n",
       "<table border=\"1\" class=\"dataframe\">\n",
       "  <thead>\n",
       "    <tr style=\"text-align: right;\">\n",
       "      <th></th>\n",
       "      <th>ID</th>\n",
       "      <th>name</th>\n",
       "      <th>category</th>\n",
       "      <th>main_category</th>\n",
       "      <th>currency</th>\n",
       "      <th>deadline</th>\n",
       "      <th>goal</th>\n",
       "      <th>launched</th>\n",
       "      <th>pledged</th>\n",
       "      <th>state</th>\n",
       "      <th>backers</th>\n",
       "      <th>country</th>\n",
       "      <th>usd pledged</th>\n",
       "      <th>usd_pledged_real</th>\n",
       "      <th>usd_goal_real</th>\n",
       "    </tr>\n",
       "  </thead>\n",
       "  <tbody>\n",
       "    <tr>\n",
       "      <th>0</th>\n",
       "      <td>1000002330</td>\n",
       "      <td>The Songs of Adelaide &amp; Abullah</td>\n",
       "      <td>Poetry</td>\n",
       "      <td>Publishing</td>\n",
       "      <td>GBP</td>\n",
       "      <td>2015-10-09</td>\n",
       "      <td>1000.0</td>\n",
       "      <td>2015-08-11 12:12:28</td>\n",
       "      <td>0.00</td>\n",
       "      <td>failed</td>\n",
       "      <td>0</td>\n",
       "      <td>GB</td>\n",
       "      <td>0.00</td>\n",
       "      <td>0.00</td>\n",
       "      <td>1533.95</td>\n",
       "    </tr>\n",
       "    <tr>\n",
       "      <th>1</th>\n",
       "      <td>1000003930</td>\n",
       "      <td>Greeting From Earth: ZGAC Arts Capsule For ET</td>\n",
       "      <td>Narrative Film</td>\n",
       "      <td>Film &amp; Video</td>\n",
       "      <td>USD</td>\n",
       "      <td>2017-11-01</td>\n",
       "      <td>30000.0</td>\n",
       "      <td>2017-09-02 04:43:57</td>\n",
       "      <td>2421.00</td>\n",
       "      <td>failed</td>\n",
       "      <td>15</td>\n",
       "      <td>US</td>\n",
       "      <td>100.00</td>\n",
       "      <td>2421.00</td>\n",
       "      <td>30000.00</td>\n",
       "    </tr>\n",
       "    <tr>\n",
       "      <th>2</th>\n",
       "      <td>1000004038</td>\n",
       "      <td>Where is Hank?</td>\n",
       "      <td>Narrative Film</td>\n",
       "      <td>Film &amp; Video</td>\n",
       "      <td>USD</td>\n",
       "      <td>2013-02-26</td>\n",
       "      <td>45000.0</td>\n",
       "      <td>2013-01-12 00:20:50</td>\n",
       "      <td>220.00</td>\n",
       "      <td>failed</td>\n",
       "      <td>3</td>\n",
       "      <td>US</td>\n",
       "      <td>220.00</td>\n",
       "      <td>220.00</td>\n",
       "      <td>45000.00</td>\n",
       "    </tr>\n",
       "    <tr>\n",
       "      <th>3</th>\n",
       "      <td>1000007540</td>\n",
       "      <td>ToshiCapital Rekordz Needs Help to Complete Album</td>\n",
       "      <td>Music</td>\n",
       "      <td>Music</td>\n",
       "      <td>USD</td>\n",
       "      <td>2012-04-16</td>\n",
       "      <td>5000.0</td>\n",
       "      <td>2012-03-17 03:24:11</td>\n",
       "      <td>1.00</td>\n",
       "      <td>failed</td>\n",
       "      <td>1</td>\n",
       "      <td>US</td>\n",
       "      <td>1.00</td>\n",
       "      <td>1.00</td>\n",
       "      <td>5000.00</td>\n",
       "    </tr>\n",
       "    <tr>\n",
       "      <th>4</th>\n",
       "      <td>1000011046</td>\n",
       "      <td>Community Film Project: The Art of Neighborhoo...</td>\n",
       "      <td>Film &amp; Video</td>\n",
       "      <td>Film &amp; Video</td>\n",
       "      <td>USD</td>\n",
       "      <td>2015-08-29</td>\n",
       "      <td>19500.0</td>\n",
       "      <td>2015-07-04 08:35:03</td>\n",
       "      <td>1283.00</td>\n",
       "      <td>canceled</td>\n",
       "      <td>14</td>\n",
       "      <td>US</td>\n",
       "      <td>1283.00</td>\n",
       "      <td>1283.00</td>\n",
       "      <td>19500.00</td>\n",
       "    </tr>\n",
       "    <tr>\n",
       "      <th>5</th>\n",
       "      <td>1000014025</td>\n",
       "      <td>Monarch Espresso Bar</td>\n",
       "      <td>Restaurants</td>\n",
       "      <td>Food</td>\n",
       "      <td>USD</td>\n",
       "      <td>2016-04-01</td>\n",
       "      <td>50000.0</td>\n",
       "      <td>2016-02-26 13:38:27</td>\n",
       "      <td>52375.00</td>\n",
       "      <td>successful</td>\n",
       "      <td>224</td>\n",
       "      <td>US</td>\n",
       "      <td>52375.00</td>\n",
       "      <td>52375.00</td>\n",
       "      <td>50000.00</td>\n",
       "    </tr>\n",
       "    <tr>\n",
       "      <th>6</th>\n",
       "      <td>1000023410</td>\n",
       "      <td>Support Solar Roasted Coffee &amp; Green Energy!  ...</td>\n",
       "      <td>Food</td>\n",
       "      <td>Food</td>\n",
       "      <td>USD</td>\n",
       "      <td>2014-12-21</td>\n",
       "      <td>1000.0</td>\n",
       "      <td>2014-12-01 18:30:44</td>\n",
       "      <td>1205.00</td>\n",
       "      <td>successful</td>\n",
       "      <td>16</td>\n",
       "      <td>US</td>\n",
       "      <td>1205.00</td>\n",
       "      <td>1205.00</td>\n",
       "      <td>1000.00</td>\n",
       "    </tr>\n",
       "    <tr>\n",
       "      <th>7</th>\n",
       "      <td>1000030581</td>\n",
       "      <td>Chaser Strips. Our Strips make Shots their B*tch!</td>\n",
       "      <td>Drinks</td>\n",
       "      <td>Food</td>\n",
       "      <td>USD</td>\n",
       "      <td>2016-03-17</td>\n",
       "      <td>25000.0</td>\n",
       "      <td>2016-02-01 20:05:12</td>\n",
       "      <td>453.00</td>\n",
       "      <td>failed</td>\n",
       "      <td>40</td>\n",
       "      <td>US</td>\n",
       "      <td>453.00</td>\n",
       "      <td>453.00</td>\n",
       "      <td>25000.00</td>\n",
       "    </tr>\n",
       "    <tr>\n",
       "      <th>8</th>\n",
       "      <td>1000034518</td>\n",
       "      <td>SPIN - Premium Retractable In-Ear Headphones w...</td>\n",
       "      <td>Product Design</td>\n",
       "      <td>Design</td>\n",
       "      <td>USD</td>\n",
       "      <td>2014-05-29</td>\n",
       "      <td>125000.0</td>\n",
       "      <td>2014-04-24 18:14:43</td>\n",
       "      <td>8233.00</td>\n",
       "      <td>canceled</td>\n",
       "      <td>58</td>\n",
       "      <td>US</td>\n",
       "      <td>8233.00</td>\n",
       "      <td>8233.00</td>\n",
       "      <td>125000.00</td>\n",
       "    </tr>\n",
       "    <tr>\n",
       "      <th>9</th>\n",
       "      <td>100004195</td>\n",
       "      <td>STUDIO IN THE SKY - A Documentary Feature Film...</td>\n",
       "      <td>Documentary</td>\n",
       "      <td>Film &amp; Video</td>\n",
       "      <td>USD</td>\n",
       "      <td>2014-08-10</td>\n",
       "      <td>65000.0</td>\n",
       "      <td>2014-07-11 21:55:48</td>\n",
       "      <td>6240.57</td>\n",
       "      <td>canceled</td>\n",
       "      <td>43</td>\n",
       "      <td>US</td>\n",
       "      <td>6240.57</td>\n",
       "      <td>6240.57</td>\n",
       "      <td>65000.00</td>\n",
       "    </tr>\n",
       "  </tbody>\n",
       "</table>\n",
       "</div>"
      ],
      "text/plain": [
       "           ID                                               name  \\\n",
       "0  1000002330                    The Songs of Adelaide & Abullah   \n",
       "1  1000003930      Greeting From Earth: ZGAC Arts Capsule For ET   \n",
       "2  1000004038                                     Where is Hank?   \n",
       "3  1000007540  ToshiCapital Rekordz Needs Help to Complete Album   \n",
       "4  1000011046  Community Film Project: The Art of Neighborhoo...   \n",
       "5  1000014025                               Monarch Espresso Bar   \n",
       "6  1000023410  Support Solar Roasted Coffee & Green Energy!  ...   \n",
       "7  1000030581  Chaser Strips. Our Strips make Shots their B*tch!   \n",
       "8  1000034518  SPIN - Premium Retractable In-Ear Headphones w...   \n",
       "9   100004195  STUDIO IN THE SKY - A Documentary Feature Film...   \n",
       "\n",
       "         category main_category currency    deadline      goal  \\\n",
       "0          Poetry    Publishing      GBP  2015-10-09    1000.0   \n",
       "1  Narrative Film  Film & Video      USD  2017-11-01   30000.0   \n",
       "2  Narrative Film  Film & Video      USD  2013-02-26   45000.0   \n",
       "3           Music         Music      USD  2012-04-16    5000.0   \n",
       "4    Film & Video  Film & Video      USD  2015-08-29   19500.0   \n",
       "5     Restaurants          Food      USD  2016-04-01   50000.0   \n",
       "6            Food          Food      USD  2014-12-21    1000.0   \n",
       "7          Drinks          Food      USD  2016-03-17   25000.0   \n",
       "8  Product Design        Design      USD  2014-05-29  125000.0   \n",
       "9     Documentary  Film & Video      USD  2014-08-10   65000.0   \n",
       "\n",
       "              launched   pledged       state  backers country  usd pledged  \\\n",
       "0  2015-08-11 12:12:28      0.00      failed        0      GB         0.00   \n",
       "1  2017-09-02 04:43:57   2421.00      failed       15      US       100.00   \n",
       "2  2013-01-12 00:20:50    220.00      failed        3      US       220.00   \n",
       "3  2012-03-17 03:24:11      1.00      failed        1      US         1.00   \n",
       "4  2015-07-04 08:35:03   1283.00    canceled       14      US      1283.00   \n",
       "5  2016-02-26 13:38:27  52375.00  successful      224      US     52375.00   \n",
       "6  2014-12-01 18:30:44   1205.00  successful       16      US      1205.00   \n",
       "7  2016-02-01 20:05:12    453.00      failed       40      US       453.00   \n",
       "8  2014-04-24 18:14:43   8233.00    canceled       58      US      8233.00   \n",
       "9  2014-07-11 21:55:48   6240.57    canceled       43      US      6240.57   \n",
       "\n",
       "   usd_pledged_real  usd_goal_real  \n",
       "0              0.00        1533.95  \n",
       "1           2421.00       30000.00  \n",
       "2            220.00       45000.00  \n",
       "3              1.00        5000.00  \n",
       "4           1283.00       19500.00  \n",
       "5          52375.00       50000.00  \n",
       "6           1205.00        1000.00  \n",
       "7            453.00       25000.00  \n",
       "8           8233.00      125000.00  \n",
       "9           6240.57       65000.00  "
      ]
     },
     "execution_count": 66,
     "metadata": {},
     "output_type": "execute_result"
    }
   ],
   "source": [
    "#next few lines- for me to know the data better, and find out what and how excecliy i'm going to predict succes or fail for new campians \n",
    "df.head(10)"
   ]
  },
  {
   "cell_type": "code",
   "execution_count": 68,
   "metadata": {},
   "outputs": [
    {
     "data": {
      "text/plain": [
       "(378661, 15)"
      ]
     },
     "execution_count": 68,
     "metadata": {},
     "output_type": "execute_result"
    }
   ],
   "source": [
    "df.shape"
   ]
  },
  {
   "cell_type": "code",
   "execution_count": 70,
   "metadata": {},
   "outputs": [
    {
     "name": "stdout",
     "output_type": "stream",
     "text": [
      "<class 'pandas.core.frame.DataFrame'>\n",
      "RangeIndex: 378661 entries, 0 to 378660\n",
      "Data columns (total 15 columns):\n",
      "ID                  378661 non-null int64\n",
      "name                378657 non-null object\n",
      "category            378661 non-null object\n",
      "main_category       378661 non-null object\n",
      "currency            378661 non-null object\n",
      "deadline            378661 non-null object\n",
      "goal                378661 non-null float64\n",
      "launched            378661 non-null object\n",
      "pledged             378661 non-null float64\n",
      "state               378661 non-null object\n",
      "backers             378661 non-null int64\n",
      "country             378661 non-null object\n",
      "usd pledged         374864 non-null float64\n",
      "usd_pledged_real    378661 non-null float64\n",
      "usd_goal_real       378661 non-null float64\n",
      "dtypes: float64(5), int64(2), object(8)\n",
      "memory usage: 43.3+ MB\n"
     ]
    }
   ],
   "source": [
    "df.info()"
   ]
  },
  {
   "cell_type": "markdown",
   "metadata": {},
   "source": [
    "We have 15 initial features:\n",
    "\n",
    "ID: internal kickstarter id\n",
    "\n",
    "name: name of project - A project is a finite work with a clear goal that you’d like to bring to life. Think albums, books, or films.\n",
    "\n",
    "category: category\n",
    "\n",
    "main_category: category of campaign\n",
    "\n",
    "currency: currency used to support\n",
    "\n",
    "deadline: deadline for crowdfunding\n",
    "\n",
    "goal: fundraising goal - The funding goal is the amount of money that a creator needs to complete their project.\n",
    "\n",
    "launched: date launched\n",
    "\n",
    "pledged: amount pledged by \"crowd\"\n",
    "\n",
    "state: Current condition the project is in\n",
    "\n",
    "backers: number of backers\n",
    "\n",
    "country: country pledged from\n",
    "\n",
    "usd pledged: Pledged amount in USD \n",
    "\n",
    "usd_pledged_real: Pledged amount in USD \n",
    "\n",
    "usd_goal_real: Goal amount in USD "
   ]
  },
  {
   "cell_type": "code",
   "execution_count": 74,
   "metadata": {},
   "outputs": [
    {
     "data": {
      "text/plain": [
       "ID                     0\n",
       "name                   4\n",
       "category               0\n",
       "main_category          0\n",
       "currency               0\n",
       "deadline               0\n",
       "goal                   0\n",
       "launched               0\n",
       "pledged                0\n",
       "state                  0\n",
       "backers                0\n",
       "country                0\n",
       "usd pledged         3797\n",
       "usd_pledged_real       0\n",
       "usd_goal_real          0\n",
       "dtype: int64"
      ]
     },
     "execution_count": 74,
     "metadata": {},
     "output_type": "execute_result"
    }
   ],
   "source": [
    "df.isnull().sum()"
   ]
  },
  {
   "cell_type": "code",
   "execution_count": null,
   "metadata": {},
   "outputs": [],
   "source": []
  },
  {
   "cell_type": "code",
   "execution_count": 75,
   "metadata": {},
   "outputs": [],
   "source": [
    "missing_data=round(((df.isnull().sum())/(df.isnull().count()))*100)"
   ]
  },
  {
   "cell_type": "code",
   "execution_count": 76,
   "metadata": {},
   "outputs": [
    {
     "data": {
      "text/plain": [
       "ID                  0.0\n",
       "name                0.0\n",
       "category            0.0\n",
       "main_category       0.0\n",
       "currency            0.0\n",
       "deadline            0.0\n",
       "goal                0.0\n",
       "launched            0.0\n",
       "pledged             0.0\n",
       "state               0.0\n",
       "backers             0.0\n",
       "country             0.0\n",
       "usd pledged         1.0\n",
       "usd_pledged_real    0.0\n",
       "usd_goal_real       0.0\n",
       "dtype: float64"
      ]
     },
     "execution_count": 76,
     "metadata": {},
     "output_type": "execute_result"
    }
   ],
   "source": [
    "#usd pledged -the only one problometic. \n",
    "missing_data"
   ]
  },
  {
   "cell_type": "code",
   "execution_count": 77,
   "metadata": {},
   "outputs": [
    {
     "data": {
      "text/plain": [
       "ID                  0.0\n",
       "name                0.0\n",
       "category            0.0\n",
       "main_category       0.0\n",
       "currency            0.0\n",
       "deadline            0.0\n",
       "goal                0.0\n",
       "launched            0.0\n",
       "pledged             0.0\n",
       "state               0.0\n",
       "backers             0.0\n",
       "country             0.0\n",
       "usd pledged         0.0\n",
       "usd_pledged_real    0.0\n",
       "usd_goal_real       0.0\n",
       "dtype: float64"
      ]
     },
     "execution_count": 77,
     "metadata": {},
     "output_type": "execute_result"
    }
   ],
   "source": [
    "#fill missing values. if we look closer at the DF we can see that those 2 values look quite the same\n",
    "df['usd pledged'].fillna(df['usd_pledged_real'], inplace=True)\n",
    "\n",
    "missing_data=round(((df.isnull().sum())/(df.isnull().count()))*100)\n",
    "missing_data"
   ]
  },
  {
   "cell_type": "code",
   "execution_count": 78,
   "metadata": {},
   "outputs": [],
   "source": [
    "#steel learning kickstartr,creating series of the amount of uniques values\n",
    "ser = df.nunique()"
   ]
  },
  {
   "cell_type": "code",
   "execution_count": 79,
   "metadata": {},
   "outputs": [
    {
     "name": "stdout",
     "output_type": "stream",
     "text": [
      "numbers of countries using KS (applying projects):\n",
      "23\n",
      "numbers of main categories:\n",
      "15\n",
      "numbers of categories:\n",
      "159\n"
     ]
    }
   ],
   "source": [
    "print('numbers of countries using KS (applying projects):')\n",
    "print(ser['country']) \n",
    "\n",
    "#catgories can be : sports, food, games, ETC.\n",
    "ser['main_category']\n",
    "print('numbers of main categories:')\n",
    "print(ser['main_category'])\n",
    "print('numbers of categories:')\n",
    "print(ser['category'])"
   ]
  },
  {
   "cell_type": "code",
   "execution_count": null,
   "metadata": {},
   "outputs": [],
   "source": []
  },
  {
   "cell_type": "code",
   "execution_count": 80,
   "metadata": {},
   "outputs": [
    {
     "data": {
      "text/plain": [
       "failed        197719\n",
       "successful    133956\n",
       "canceled       38779\n",
       "undefined       3562\n",
       "live            2799\n",
       "suspended       1846\n",
       "Name: state, dtype: int64"
      ]
     },
     "execution_count": 80,
     "metadata": {},
     "output_type": "execute_result"
    }
   ],
   "source": [
    "df[\"state\"].value_counts()"
   ]
  },
  {
   "cell_type": "code",
   "execution_count": 81,
   "metadata": {},
   "outputs": [
    {
     "name": "stdout",
     "output_type": "stream",
     "text": [
      "State Percentual in %: \n",
      "failed        52.2153\n",
      "successful    35.3762\n",
      "canceled      10.2411\n",
      "undefined      0.9407\n",
      "live           0.7392\n",
      "suspended      0.4875\n",
      "Name: state, dtype: float64\n"
     ]
    }
   ],
   "source": [
    " \n",
    "percentual_sucess = round(df[\"state\"].value_counts() / len(df[\"state\"]) * 100,4)\n",
    "\n",
    "print(\"State Percentual in %: \")\n",
    "print(percentual_sucess)"
   ]
  },
  {
   "cell_type": "code",
   "execution_count": 82,
   "metadata": {},
   "outputs": [
    {
     "data": {
      "text/plain": [
       "<matplotlib.axes._subplots.AxesSubplot at 0x20119733b38>"
      ]
     },
     "execution_count": 82,
     "metadata": {},
     "output_type": "execute_result"
    },
    {
     "data": {
      "image/png": "[encoded data removed]",
      "text/plain": [
       "<Figure size 432x288 with 1 Axes>"
      ]
     },
     "metadata": {},
     "output_type": "display_data"
    }
   ],
   "source": [
    "#in order to preform this plot (I really wanted it), I had to use seaborn. \n",
    "sns.set_style(\"whitegrid\")\n",
    "sns.barplot([\"Failed\", \"Successful\", \"Others\"],\n",
    "            y= [52.2153, 35.3762, 0.9407+0.7392+0.4875],\n",
    "            palette = \"Set1\"\n",
    "            )\n"
   ]
  },
  {
   "cell_type": "code",
   "execution_count": 83,
   "metadata": {},
   "outputs": [
    {
     "data": {
      "text/plain": [
       "US      292627\n",
       "GB       33672\n",
       "CA       14756\n",
       "AU        7839\n",
       "DE        4171\n",
       "N,0\"      3797\n",
       "FR        2939\n",
       "IT        2878\n",
       "NL        2868\n",
       "ES        2276\n",
       "SE        1757\n",
       "MX        1752\n",
       "NZ        1447\n",
       "DK        1113\n",
       "IE         811\n",
       "CH         761\n",
       "NO         708\n",
       "HK         618\n",
       "BE         617\n",
       "AT         597\n",
       "SG         555\n",
       "LU          62\n",
       "JP          40\n",
       "Name: country, dtype: int64"
      ]
     },
     "execution_count": 83,
     "metadata": {},
     "output_type": "execute_result"
    }
   ],
   "source": [
    "#lets talk about the countries\n",
    "df['country'].value_counts()\n"
   ]
  },
  {
   "cell_type": "code",
   "execution_count": 84,
   "metadata": {},
   "outputs": [
    {
     "data": {
      "image/png": "[encoded data removed]",
      "text/plain": [
       "<Figure size 432x288 with 1 Axes>"
      ]
     },
     "metadata": {},
     "output_type": "display_data"
    }
   ],
   "source": [
    "df['country'].value_counts().plot.bar()\n",
    "plt.show()"
   ]
  },
  {
   "cell_type": "code",
   "execution_count": 85,
   "metadata": {},
   "outputs": [
    {
     "data": {
      "text/html": [
       "<div>\n",
       "<style scoped>\n",
       "    .dataframe tbody tr th:only-of-type {\n",
       "        vertical-align: middle;\n",
       "    }\n",
       "\n",
       "    .dataframe tbody tr th {\n",
       "        vertical-align: top;\n",
       "    }\n",
       "\n",
       "    .dataframe thead th {\n",
       "        text-align: right;\n",
       "    }\n",
       "</style>\n",
       "<table border=\"1\" class=\"dataframe\">\n",
       "  <thead>\n",
       "    <tr style=\"text-align: right;\">\n",
       "      <th>state</th>\n",
       "      <th>canceled</th>\n",
       "      <th>failed</th>\n",
       "      <th>live</th>\n",
       "      <th>successful</th>\n",
       "      <th>suspended</th>\n",
       "      <th>undefined</th>\n",
       "    </tr>\n",
       "    <tr>\n",
       "      <th>main_category</th>\n",
       "      <th></th>\n",
       "      <th></th>\n",
       "      <th></th>\n",
       "      <th></th>\n",
       "      <th></th>\n",
       "      <th></th>\n",
       "    </tr>\n",
       "  </thead>\n",
       "  <tbody>\n",
       "    <tr>\n",
       "      <th>Art</th>\n",
       "      <td>2222.0</td>\n",
       "      <td>14131.0</td>\n",
       "      <td>194.0</td>\n",
       "      <td>11510.0</td>\n",
       "      <td>96.0</td>\n",
       "      <td>NaN</td>\n",
       "    </tr>\n",
       "    <tr>\n",
       "      <th>Comics</th>\n",
       "      <td>842.0</td>\n",
       "      <td>4036.0</td>\n",
       "      <td>76.0</td>\n",
       "      <td>5842.0</td>\n",
       "      <td>23.0</td>\n",
       "      <td>NaN</td>\n",
       "    </tr>\n",
       "    <tr>\n",
       "      <th>Crafts</th>\n",
       "      <td>843.0</td>\n",
       "      <td>5703.0</td>\n",
       "      <td>76.0</td>\n",
       "      <td>2115.0</td>\n",
       "      <td>72.0</td>\n",
       "      <td>NaN</td>\n",
       "    </tr>\n",
       "    <tr>\n",
       "      <th>Dance</th>\n",
       "      <td>163.0</td>\n",
       "      <td>1235.0</td>\n",
       "      <td>18.0</td>\n",
       "      <td>2338.0</td>\n",
       "      <td>13.0</td>\n",
       "      <td>1.0</td>\n",
       "    </tr>\n",
       "    <tr>\n",
       "      <th>Design</th>\n",
       "      <td>4152.0</td>\n",
       "      <td>14814.0</td>\n",
       "      <td>305.0</td>\n",
       "      <td>10550.0</td>\n",
       "      <td>247.0</td>\n",
       "      <td>2.0</td>\n",
       "    </tr>\n",
       "  </tbody>\n",
       "</table>\n",
       "</div>"
      ],
      "text/plain": [
       "state          canceled   failed   live  successful  suspended  undefined\n",
       "main_category                                                            \n",
       "Art              2222.0  14131.0  194.0     11510.0       96.0        NaN\n",
       "Comics            842.0   4036.0   76.0      5842.0       23.0        NaN\n",
       "Crafts            843.0   5703.0   76.0      2115.0       72.0        NaN\n",
       "Dance             163.0   1235.0   18.0      2338.0       13.0        1.0\n",
       "Design           4152.0  14814.0  305.0     10550.0      247.0        2.0"
      ]
     },
     "execution_count": 85,
     "metadata": {},
     "output_type": "execute_result"
    }
   ],
   "source": [
    "#for better and detailed understanig ,just change 'main_category' to 'catregory'\n",
    "df1=df.groupby('main_category').state.value_counts().unstack()\n",
    "df1.head()"
   ]
  },
  {
   "cell_type": "code",
   "execution_count": 86,
   "metadata": {},
   "outputs": [],
   "source": [
    "df1 = df1.drop(columns=['live','suspended','undefined','canceled'])"
   ]
  },
  {
   "cell_type": "code",
   "execution_count": 87,
   "metadata": {},
   "outputs": [],
   "source": [
    "df1['delta'] = df1['successful'] - df1['failed']\n"
   ]
  },
  {
   "cell_type": "code",
   "execution_count": 88,
   "metadata": {},
   "outputs": [
    {
     "data": {
      "text/html": [
       "<div>\n",
       "<style scoped>\n",
       "    .dataframe tbody tr th:only-of-type {\n",
       "        vertical-align: middle;\n",
       "    }\n",
       "\n",
       "    .dataframe tbody tr th {\n",
       "        vertical-align: top;\n",
       "    }\n",
       "\n",
       "    .dataframe thead th {\n",
       "        text-align: right;\n",
       "    }\n",
       "</style>\n",
       "<table border=\"1\" class=\"dataframe\">\n",
       "  <thead>\n",
       "    <tr style=\"text-align: right;\">\n",
       "      <th>state</th>\n",
       "      <th>failed</th>\n",
       "      <th>successful</th>\n",
       "      <th>delta</th>\n",
       "    </tr>\n",
       "    <tr>\n",
       "      <th>main_category</th>\n",
       "      <th></th>\n",
       "      <th></th>\n",
       "      <th></th>\n",
       "    </tr>\n",
       "  </thead>\n",
       "  <tbody>\n",
       "    <tr>\n",
       "      <th>Technology</th>\n",
       "      <td>20616.0</td>\n",
       "      <td>6434.0</td>\n",
       "      <td>-14182.0</td>\n",
       "    </tr>\n",
       "    <tr>\n",
       "      <th>Publishing</th>\n",
       "      <td>23145.0</td>\n",
       "      <td>12300.0</td>\n",
       "      <td>-10845.0</td>\n",
       "    </tr>\n",
       "    <tr>\n",
       "      <th>Food</th>\n",
       "      <td>15969.0</td>\n",
       "      <td>6085.0</td>\n",
       "      <td>-9884.0</td>\n",
       "    </tr>\n",
       "    <tr>\n",
       "      <th>Film &amp; Video</th>\n",
       "      <td>32904.0</td>\n",
       "      <td>23623.0</td>\n",
       "      <td>-9281.0</td>\n",
       "    </tr>\n",
       "    <tr>\n",
       "      <th>Fashion</th>\n",
       "      <td>14182.0</td>\n",
       "      <td>5593.0</td>\n",
       "      <td>-8589.0</td>\n",
       "    </tr>\n",
       "    <tr>\n",
       "      <th>Design</th>\n",
       "      <td>14814.0</td>\n",
       "      <td>10550.0</td>\n",
       "      <td>-4264.0</td>\n",
       "    </tr>\n",
       "    <tr>\n",
       "      <th>Crafts</th>\n",
       "      <td>5703.0</td>\n",
       "      <td>2115.0</td>\n",
       "      <td>-3588.0</td>\n",
       "    </tr>\n",
       "    <tr>\n",
       "      <th>Games</th>\n",
       "      <td>16003.0</td>\n",
       "      <td>12518.0</td>\n",
       "      <td>-3485.0</td>\n",
       "    </tr>\n",
       "    <tr>\n",
       "      <th>Photography</th>\n",
       "      <td>6384.0</td>\n",
       "      <td>3305.0</td>\n",
       "      <td>-3079.0</td>\n",
       "    </tr>\n",
       "    <tr>\n",
       "      <th>Art</th>\n",
       "      <td>14131.0</td>\n",
       "      <td>11510.0</td>\n",
       "      <td>-2621.0</td>\n",
       "    </tr>\n",
       "    <tr>\n",
       "      <th>Journalism</th>\n",
       "      <td>3137.0</td>\n",
       "      <td>1012.0</td>\n",
       "      <td>-2125.0</td>\n",
       "    </tr>\n",
       "    <tr>\n",
       "      <th>Dance</th>\n",
       "      <td>1235.0</td>\n",
       "      <td>2338.0</td>\n",
       "      <td>1103.0</td>\n",
       "    </tr>\n",
       "    <tr>\n",
       "      <th>Comics</th>\n",
       "      <td>4036.0</td>\n",
       "      <td>5842.0</td>\n",
       "      <td>1806.0</td>\n",
       "    </tr>\n",
       "    <tr>\n",
       "      <th>Music</th>\n",
       "      <td>21752.0</td>\n",
       "      <td>24197.0</td>\n",
       "      <td>2445.0</td>\n",
       "    </tr>\n",
       "    <tr>\n",
       "      <th>Theater</th>\n",
       "      <td>3708.0</td>\n",
       "      <td>6534.0</td>\n",
       "      <td>2826.0</td>\n",
       "    </tr>\n",
       "  </tbody>\n",
       "</table>\n",
       "</div>"
      ],
      "text/plain": [
       "state           failed  successful    delta\n",
       "main_category                              \n",
       "Technology     20616.0      6434.0 -14182.0\n",
       "Publishing     23145.0     12300.0 -10845.0\n",
       "Food           15969.0      6085.0  -9884.0\n",
       "Film & Video   32904.0     23623.0  -9281.0\n",
       "Fashion        14182.0      5593.0  -8589.0\n",
       "Design         14814.0     10550.0  -4264.0\n",
       "Crafts          5703.0      2115.0  -3588.0\n",
       "Games          16003.0     12518.0  -3485.0\n",
       "Photography     6384.0      3305.0  -3079.0\n",
       "Art            14131.0     11510.0  -2621.0\n",
       "Journalism      3137.0      1012.0  -2125.0\n",
       "Dance           1235.0      2338.0   1103.0\n",
       "Comics          4036.0      5842.0   1806.0\n",
       "Music          21752.0     24197.0   2445.0\n",
       "Theater         3708.0      6534.0   2826.0"
      ]
     },
     "execution_count": 88,
     "metadata": {},
     "output_type": "execute_result"
    }
   ],
   "source": [
    "df1.sort_values(by=['delta'])"
   ]
  },
  {
   "cell_type": "code",
   "execution_count": 89,
   "metadata": {},
   "outputs": [
    {
     "data": {
      "image/png": "[encoded data removed]",
      "text/plain": [
       "<Figure size 432x288 with 1 Axes>"
      ]
     },
     "metadata": {},
     "output_type": "display_data"
    }
   ],
   "source": [
    "#well, before lanching a KS project it's better for you to know this plot.comics in, tech out.\n",
    "df1['delta'].plot.barh()\n",
    "plt.show()"
   ]
  },
  {
   "cell_type": "code",
   "execution_count": 90,
   "metadata": {},
   "outputs": [
    {
     "data": {
      "image/png": "[encoded data removed]",
      "text/plain": [
       "<Figure size 864x864 with 1 Axes>"
      ]
     },
     "metadata": {},
     "output_type": "display_data"
    }
   ],
   "source": [
    "sucess_games = df[(df['main_category'] == 'Games') & \n",
    "                      (df['state'] == 'successful')]\n",
    "plt.figure(figsize=(12,12))\n",
    "plt.subplot(3,1,3)\n",
    "ax2 = sns.countplot(x='category', data=sucess_games)\n",
    "\n",
    "ax2.set_title(\"Category Games that Succed\", fontsize=15)\n",
    "ax2.set_xlabel(\"Categorys of Games with Sucess\", fontsize=12)\n",
    "ax2.set_ylabel(\"Counts\", fontsize=12)\n",
    "plt.show()"
   ]
  },
  {
   "cell_type": "code",
   "execution_count": 91,
   "metadata": {},
   "outputs": [
    {
     "name": "stdout",
     "output_type": "stream",
     "text": [
      "(261360, 6)\n"
     ]
    },
    {
     "data": {
      "text/html": [
       "<div>\n",
       "<style scoped>\n",
       "    .dataframe tbody tr th:only-of-type {\n",
       "        vertical-align: middle;\n",
       "    }\n",
       "\n",
       "    .dataframe tbody tr th {\n",
       "        vertical-align: top;\n",
       "    }\n",
       "\n",
       "    .dataframe thead th {\n",
       "        text-align: right;\n",
       "    }\n",
       "</style>\n",
       "<table border=\"1\" class=\"dataframe\">\n",
       "  <thead>\n",
       "    <tr style=\"text-align: right;\">\n",
       "      <th></th>\n",
       "      <th>main_category</th>\n",
       "      <th>deadline</th>\n",
       "      <th>goal</th>\n",
       "      <th>launched</th>\n",
       "      <th>state</th>\n",
       "      <th>backers</th>\n",
       "    </tr>\n",
       "  </thead>\n",
       "  <tbody>\n",
       "    <tr>\n",
       "      <th>1</th>\n",
       "      <td>Film &amp; Video</td>\n",
       "      <td>2017-11-01</td>\n",
       "      <td>30000.0</td>\n",
       "      <td>2017-09-02 04:43:57</td>\n",
       "      <td>failed</td>\n",
       "      <td>15</td>\n",
       "    </tr>\n",
       "    <tr>\n",
       "      <th>2</th>\n",
       "      <td>Film &amp; Video</td>\n",
       "      <td>2013-02-26</td>\n",
       "      <td>45000.0</td>\n",
       "      <td>2013-01-12 00:20:50</td>\n",
       "      <td>failed</td>\n",
       "      <td>3</td>\n",
       "    </tr>\n",
       "    <tr>\n",
       "      <th>3</th>\n",
       "      <td>Music</td>\n",
       "      <td>2012-04-16</td>\n",
       "      <td>5000.0</td>\n",
       "      <td>2012-03-17 03:24:11</td>\n",
       "      <td>failed</td>\n",
       "      <td>1</td>\n",
       "    </tr>\n",
       "    <tr>\n",
       "      <th>5</th>\n",
       "      <td>Food</td>\n",
       "      <td>2016-04-01</td>\n",
       "      <td>50000.0</td>\n",
       "      <td>2016-02-26 13:38:27</td>\n",
       "      <td>successful</td>\n",
       "      <td>224</td>\n",
       "    </tr>\n",
       "    <tr>\n",
       "      <th>6</th>\n",
       "      <td>Food</td>\n",
       "      <td>2014-12-21</td>\n",
       "      <td>1000.0</td>\n",
       "      <td>2014-12-01 18:30:44</td>\n",
       "      <td>successful</td>\n",
       "      <td>16</td>\n",
       "    </tr>\n",
       "  </tbody>\n",
       "</table>\n",
       "</div>"
      ],
      "text/plain": [
       "  main_category    deadline     goal             launched       state  backers\n",
       "1  Film & Video  2017-11-01  30000.0  2017-09-02 04:43:57      failed       15\n",
       "2  Film & Video  2013-02-26  45000.0  2013-01-12 00:20:50      failed        3\n",
       "3         Music  2012-04-16   5000.0  2012-03-17 03:24:11      failed        1\n",
       "5          Food  2016-04-01  50000.0  2016-02-26 13:38:27  successful      224\n",
       "6          Food  2014-12-21   1000.0  2014-12-01 18:30:44  successful       16"
      ]
     },
     "execution_count": 91,
     "metadata": {},
     "output_type": "execute_result"
    }
   ],
   "source": [
    "#preper the data- from know on we will use df2 (cleaning process)\n",
    "df2 = df[ ((df['state'] == 'failed') | \n",
    "           (df['state'] == 'successful')) & \n",
    "         (df['country'] == 'US') ]\n",
    "df2 = df2.drop(columns=['ID','name','usd pledged','usd_pledged_real','country','usd_goal_real','category','currency','pledged'])\n",
    "\n",
    "print(df2.shape)\n",
    "df2.head()"
   ]
  },
  {
   "cell_type": "code",
   "execution_count": 92,
   "metadata": {},
   "outputs": [
    {
     "data": {
      "text/html": [
       "<div>\n",
       "<style scoped>\n",
       "    .dataframe tbody tr th:only-of-type {\n",
       "        vertical-align: middle;\n",
       "    }\n",
       "\n",
       "    .dataframe tbody tr th {\n",
       "        vertical-align: top;\n",
       "    }\n",
       "\n",
       "    .dataframe thead th {\n",
       "        text-align: right;\n",
       "    }\n",
       "</style>\n",
       "<table border=\"1\" class=\"dataframe\">\n",
       "  <thead>\n",
       "    <tr style=\"text-align: right;\">\n",
       "      <th></th>\n",
       "      <th>main_category</th>\n",
       "      <th>deadline</th>\n",
       "      <th>goal</th>\n",
       "      <th>launched</th>\n",
       "      <th>state</th>\n",
       "      <th>backers</th>\n",
       "      <th>month</th>\n",
       "    </tr>\n",
       "  </thead>\n",
       "  <tbody>\n",
       "    <tr>\n",
       "      <th>1</th>\n",
       "      <td>4</td>\n",
       "      <td>2017-11-01</td>\n",
       "      <td>30000.0</td>\n",
       "      <td>2017-09-02 04:43:57</td>\n",
       "      <td>0</td>\n",
       "      <td>15</td>\n",
       "      <td>9</td>\n",
       "    </tr>\n",
       "    <tr>\n",
       "      <th>2</th>\n",
       "      <td>4</td>\n",
       "      <td>2013-02-26</td>\n",
       "      <td>45000.0</td>\n",
       "      <td>2013-01-12 00:20:50</td>\n",
       "      <td>0</td>\n",
       "      <td>3</td>\n",
       "      <td>1</td>\n",
       "    </tr>\n",
       "    <tr>\n",
       "      <th>3</th>\n",
       "      <td>14</td>\n",
       "      <td>2012-04-16</td>\n",
       "      <td>5000.0</td>\n",
       "      <td>2012-03-17 03:24:11</td>\n",
       "      <td>0</td>\n",
       "      <td>1</td>\n",
       "      <td>3</td>\n",
       "    </tr>\n",
       "    <tr>\n",
       "      <th>5</th>\n",
       "      <td>3</td>\n",
       "      <td>2016-04-01</td>\n",
       "      <td>50000.0</td>\n",
       "      <td>2016-02-26 13:38:27</td>\n",
       "      <td>1</td>\n",
       "      <td>224</td>\n",
       "      <td>2</td>\n",
       "    </tr>\n",
       "    <tr>\n",
       "      <th>6</th>\n",
       "      <td>3</td>\n",
       "      <td>2014-12-21</td>\n",
       "      <td>1000.0</td>\n",
       "      <td>2014-12-01 18:30:44</td>\n",
       "      <td>1</td>\n",
       "      <td>16</td>\n",
       "      <td>12</td>\n",
       "    </tr>\n",
       "  </tbody>\n",
       "</table>\n",
       "</div>"
      ],
      "text/plain": [
       "   main_category    deadline     goal             launched  state  backers  \\\n",
       "1              4  2017-11-01  30000.0  2017-09-02 04:43:57      0       15   \n",
       "2              4  2013-02-26  45000.0  2013-01-12 00:20:50      0        3   \n",
       "3             14  2012-04-16   5000.0  2012-03-17 03:24:11      0        1   \n",
       "5              3  2016-04-01  50000.0  2016-02-26 13:38:27      1      224   \n",
       "6              3  2014-12-21   1000.0  2014-12-01 18:30:44      1       16   \n",
       "\n",
       "   month  \n",
       "1      9  \n",
       "2      1  \n",
       "3      3  \n",
       "5      2  \n",
       "6     12  "
      ]
     },
     "execution_count": 92,
     "metadata": {},
     "output_type": "execute_result"
    }
   ],
   "source": [
    "#prepertions\n",
    "df2['month'] = pd.DatetimeIndex(df2['launched']).month\n",
    "\n",
    "df2['state'] = df2['state'].map({     \n",
    "        'failed': 0,\n",
    "        'successful': 1         \n",
    "})\n",
    "\n",
    "df2['main_category']=df2['main_category'].map({     \n",
    "        'Technology': 1,\n",
    "        'Publishing': 2 ,\n",
    "        'Food': 3 ,\n",
    "        'Film & Video': 4 ,\n",
    "        'Fashion': 5 ,\n",
    "        'Design': 6 ,\n",
    "        'Crafts': 7 ,\n",
    "        'Games': 8 ,\n",
    "        'Photography': 9 ,\n",
    "        'Art': 10 ,\n",
    "        'Journalism': 11 ,\n",
    "        'Dance': 12 ,\n",
    "        'Comics': 13 ,\n",
    "        'Music': 14 ,\n",
    "        'Theater': 15\n",
    "})\n",
    "\n",
    "#by the way, I now that  I can do this more simplly with this code:\n",
    "\n",
    "#from sklearn.preprocessing import LabelEncoder\n",
    "#labelencoder = LabelEncoder()\n",
    "#df2.main_category = labelencoder.fit_transform(df2.main_category)\n",
    "\n",
    "df2.head()"
   ]
  },
  {
   "cell_type": "code",
   "execution_count": 93,
   "metadata": {},
   "outputs": [
    {
     "data": {
      "text/html": [
       "<div>\n",
       "<style scoped>\n",
       "    .dataframe tbody tr th:only-of-type {\n",
       "        vertical-align: middle;\n",
       "    }\n",
       "\n",
       "    .dataframe tbody tr th {\n",
       "        vertical-align: top;\n",
       "    }\n",
       "\n",
       "    .dataframe thead th {\n",
       "        text-align: right;\n",
       "    }\n",
       "</style>\n",
       "<table border=\"1\" class=\"dataframe\">\n",
       "  <thead>\n",
       "    <tr style=\"text-align: right;\">\n",
       "      <th></th>\n",
       "      <th>main_category</th>\n",
       "      <th>goal</th>\n",
       "      <th>state</th>\n",
       "      <th>month</th>\n",
       "    </tr>\n",
       "  </thead>\n",
       "  <tbody>\n",
       "    <tr>\n",
       "      <th>1</th>\n",
       "      <td>4</td>\n",
       "      <td>30000.0</td>\n",
       "      <td>0</td>\n",
       "      <td>9</td>\n",
       "    </tr>\n",
       "    <tr>\n",
       "      <th>2</th>\n",
       "      <td>4</td>\n",
       "      <td>45000.0</td>\n",
       "      <td>0</td>\n",
       "      <td>1</td>\n",
       "    </tr>\n",
       "    <tr>\n",
       "      <th>3</th>\n",
       "      <td>14</td>\n",
       "      <td>5000.0</td>\n",
       "      <td>0</td>\n",
       "      <td>3</td>\n",
       "    </tr>\n",
       "    <tr>\n",
       "      <th>5</th>\n",
       "      <td>3</td>\n",
       "      <td>50000.0</td>\n",
       "      <td>1</td>\n",
       "      <td>2</td>\n",
       "    </tr>\n",
       "    <tr>\n",
       "      <th>6</th>\n",
       "      <td>3</td>\n",
       "      <td>1000.0</td>\n",
       "      <td>1</td>\n",
       "      <td>12</td>\n",
       "    </tr>\n",
       "    <tr>\n",
       "      <th>7</th>\n",
       "      <td>3</td>\n",
       "      <td>25000.0</td>\n",
       "      <td>0</td>\n",
       "      <td>2</td>\n",
       "    </tr>\n",
       "    <tr>\n",
       "      <th>11</th>\n",
       "      <td>14</td>\n",
       "      <td>12500.0</td>\n",
       "      <td>1</td>\n",
       "      <td>3</td>\n",
       "    </tr>\n",
       "    <tr>\n",
       "      <th>12</th>\n",
       "      <td>7</td>\n",
       "      <td>5000.0</td>\n",
       "      <td>0</td>\n",
       "      <td>9</td>\n",
       "    </tr>\n",
       "    <tr>\n",
       "      <th>13</th>\n",
       "      <td>8</td>\n",
       "      <td>200000.0</td>\n",
       "      <td>0</td>\n",
       "      <td>2</td>\n",
       "    </tr>\n",
       "    <tr>\n",
       "      <th>15</th>\n",
       "      <td>6</td>\n",
       "      <td>2500.0</td>\n",
       "      <td>0</td>\n",
       "      <td>1</td>\n",
       "    </tr>\n",
       "  </tbody>\n",
       "</table>\n",
       "</div>"
      ],
      "text/plain": [
       "    main_category      goal  state  month\n",
       "1               4   30000.0      0      9\n",
       "2               4   45000.0      0      1\n",
       "3              14    5000.0      0      3\n",
       "5               3   50000.0      1      2\n",
       "6               3    1000.0      1     12\n",
       "7               3   25000.0      0      2\n",
       "11             14   12500.0      1      3\n",
       "12              7    5000.0      0      9\n",
       "13              8  200000.0      0      2\n",
       "15              6    2500.0      0      1"
      ]
     },
     "execution_count": 93,
     "metadata": {},
     "output_type": "execute_result"
    }
   ],
   "source": [
    "df2=df2.drop(columns=['launched','deadline','backers'])     #   the fetured that i dropped are may be needed\n",
    "df2.head(10)                                                # but I dropped this features because I assume that for a new kickstart project we may not have any knowledge of them.\n"
   ]
  },
  {
   "cell_type": "code",
   "execution_count": null,
   "metadata": {},
   "outputs": [],
   "source": []
  },
  {
   "cell_type": "code",
   "execution_count": 94,
   "metadata": {},
   "outputs": [
    {
     "data": {
      "text/plain": [
       "7     25604\n",
       "3     23893\n",
       "5     23046\n",
       "4     22914\n",
       "6     22882\n",
       "8     22838\n",
       "10    22720\n",
       "9     21464\n",
       "11    21271\n",
       "2     20864\n",
       "1     19501\n",
       "12    14363\n",
       "Name: month, dtype: int64"
      ]
     },
     "execution_count": 94,
     "metadata": {},
     "output_type": "execute_result"
    }
   ],
   "source": [
    "df2['month'].value_counts()"
   ]
  },
  {
   "cell_type": "code",
   "execution_count": 95,
   "metadata": {},
   "outputs": [
    {
     "data": {
      "text/html": [
       "<div>\n",
       "<style scoped>\n",
       "    .dataframe tbody tr th:only-of-type {\n",
       "        vertical-align: middle;\n",
       "    }\n",
       "\n",
       "    .dataframe tbody tr th {\n",
       "        vertical-align: top;\n",
       "    }\n",
       "\n",
       "    .dataframe thead th {\n",
       "        text-align: right;\n",
       "    }\n",
       "</style>\n",
       "<table border=\"1\" class=\"dataframe\">\n",
       "  <thead>\n",
       "    <tr style=\"text-align: right;\">\n",
       "      <th></th>\n",
       "      <th>main_category</th>\n",
       "      <th>goal</th>\n",
       "      <th>state</th>\n",
       "      <th>1</th>\n",
       "      <th>2</th>\n",
       "      <th>3</th>\n",
       "      <th>4</th>\n",
       "      <th>5</th>\n",
       "      <th>6</th>\n",
       "      <th>7</th>\n",
       "      <th>8</th>\n",
       "      <th>9</th>\n",
       "      <th>10</th>\n",
       "      <th>11</th>\n",
       "      <th>12</th>\n",
       "    </tr>\n",
       "  </thead>\n",
       "  <tbody>\n",
       "    <tr>\n",
       "      <th>1</th>\n",
       "      <td>4</td>\n",
       "      <td>30000.0</td>\n",
       "      <td>0</td>\n",
       "      <td>0</td>\n",
       "      <td>0</td>\n",
       "      <td>0</td>\n",
       "      <td>0</td>\n",
       "      <td>0</td>\n",
       "      <td>0</td>\n",
       "      <td>0</td>\n",
       "      <td>0</td>\n",
       "      <td>1</td>\n",
       "      <td>0</td>\n",
       "      <td>0</td>\n",
       "      <td>0</td>\n",
       "    </tr>\n",
       "    <tr>\n",
       "      <th>2</th>\n",
       "      <td>4</td>\n",
       "      <td>45000.0</td>\n",
       "      <td>0</td>\n",
       "      <td>1</td>\n",
       "      <td>0</td>\n",
       "      <td>0</td>\n",
       "      <td>0</td>\n",
       "      <td>0</td>\n",
       "      <td>0</td>\n",
       "      <td>0</td>\n",
       "      <td>0</td>\n",
       "      <td>0</td>\n",
       "      <td>0</td>\n",
       "      <td>0</td>\n",
       "      <td>0</td>\n",
       "    </tr>\n",
       "    <tr>\n",
       "      <th>3</th>\n",
       "      <td>14</td>\n",
       "      <td>5000.0</td>\n",
       "      <td>0</td>\n",
       "      <td>0</td>\n",
       "      <td>0</td>\n",
       "      <td>1</td>\n",
       "      <td>0</td>\n",
       "      <td>0</td>\n",
       "      <td>0</td>\n",
       "      <td>0</td>\n",
       "      <td>0</td>\n",
       "      <td>0</td>\n",
       "      <td>0</td>\n",
       "      <td>0</td>\n",
       "      <td>0</td>\n",
       "    </tr>\n",
       "    <tr>\n",
       "      <th>5</th>\n",
       "      <td>3</td>\n",
       "      <td>50000.0</td>\n",
       "      <td>1</td>\n",
       "      <td>0</td>\n",
       "      <td>1</td>\n",
       "      <td>0</td>\n",
       "      <td>0</td>\n",
       "      <td>0</td>\n",
       "      <td>0</td>\n",
       "      <td>0</td>\n",
       "      <td>0</td>\n",
       "      <td>0</td>\n",
       "      <td>0</td>\n",
       "      <td>0</td>\n",
       "      <td>0</td>\n",
       "    </tr>\n",
       "    <tr>\n",
       "      <th>6</th>\n",
       "      <td>3</td>\n",
       "      <td>1000.0</td>\n",
       "      <td>1</td>\n",
       "      <td>0</td>\n",
       "      <td>0</td>\n",
       "      <td>0</td>\n",
       "      <td>0</td>\n",
       "      <td>0</td>\n",
       "      <td>0</td>\n",
       "      <td>0</td>\n",
       "      <td>0</td>\n",
       "      <td>0</td>\n",
       "      <td>0</td>\n",
       "      <td>0</td>\n",
       "      <td>1</td>\n",
       "    </tr>\n",
       "  </tbody>\n",
       "</table>\n",
       "</div>"
      ],
      "text/plain": [
       "   main_category     goal  state  1  2  3  4  5  6  7  8  9  10  11  12\n",
       "1              4  30000.0      0  0  0  0  0  0  0  0  0  1   0   0   0\n",
       "2              4  45000.0      0  1  0  0  0  0  0  0  0  0   0   0   0\n",
       "3             14   5000.0      0  0  0  1  0  0  0  0  0  0   0   0   0\n",
       "5              3  50000.0      1  0  1  0  0  0  0  0  0  0   0   0   0\n",
       "6              3   1000.0      1  0  0  0  0  0  0  0  0  0   0   0   1"
      ]
     },
     "execution_count": 95,
     "metadata": {},
     "output_type": "execute_result"
    }
   ],
   "source": [
    "#dummies for  month\n",
    "df3 = pd.get_dummies(df2.month)\n",
    "df2 = df2.join(df3)\n",
    "df2=df2.drop(columns=['month'])\n",
    "df2.head()"
   ]
  },
  {
   "cell_type": "code",
   "execution_count": null,
   "metadata": {},
   "outputs": [],
   "source": []
  },
  {
   "cell_type": "code",
   "execution_count": 96,
   "metadata": {},
   "outputs": [
    {
     "name": "stdout",
     "output_type": "stream",
     "text": [
      "(378661, 15)\n",
      "(261360, 15)\n"
     ]
    }
   ],
   "source": [
    "# Check\n",
    "\n",
    "print(df.shape)\n",
    "\n",
    "print(df2.shape)\n",
    "\n",
    "#lookes good to me, now ill start prepering the model"
   ]
  },
  {
   "cell_type": "code",
   "execution_count": 97,
   "metadata": {},
   "outputs": [],
   "source": [
    "X=df2.drop('state',axis=1)\n",
    "y=df2['state']\n",
    "X_train, X_test, y_train, y_test = train_test_split(X, y, test_size=0.33, random_state=42)"
   ]
  },
  {
   "cell_type": "code",
   "execution_count": null,
   "metadata": {},
   "outputs": [],
   "source": [
    "#scaling for Knn for example is important.(because of the distanst) if we want we can use: \n",
    "#from sklearn.preprocessing import StandardScaler\n",
    "#scaler = StandardScaler()\n",
    "#scaler.fit(X)\n",
    "#scaled_fetaurs = scaler.transform (X)\n",
    "\n"
   ]
  },
  {
   "cell_type": "code",
   "execution_count": 98,
   "metadata": {},
   "outputs": [
    {
     "name": "stderr",
     "output_type": "stream",
     "text": [
      "C:\\ProgramData\\Anaconda3\\lib\\site-packages\\sklearn\\linear_model\\logistic.py:433: FutureWarning: Default solver will be changed to 'lbfgs' in 0.22. Specify a solver to silence this warning.\n",
      "  FutureWarning)\n"
     ]
    }
   ],
   "source": [
    "# Logistic Regression\n",
    "lr=LogisticRegression()\n",
    "lr.fit(X_train,y_train)\n",
    "#we used the train model to get the prediction for our test data set (X_test)\n",
    "predictions=lr.predict(X_test)\n"
   ]
  },
  {
   "cell_type": "code",
   "execution_count": 133,
   "metadata": {},
   "outputs": [
    {
     "name": "stdout",
     "output_type": "stream",
     "text": [
      "              precision    recall  f1-score   support\n",
      "\n",
      "           0       0.65      0.75      0.70     50257\n",
      "           1       0.55      0.43      0.48     35992\n",
      "\n",
      "   micro avg       0.62      0.62      0.62     86249\n",
      "   macro avg       0.60      0.59      0.59     86249\n",
      "weighted avg       0.61      0.62      0.61     86249\n",
      "\n"
     ]
    }
   ],
   "source": [
    "#evalution process:classification_report\n",
    "print(classification_report(y_test,predictions))"
   ]
  },
  {
   "cell_type": "code",
   "execution_count": 134,
   "metadata": {},
   "outputs": [
    {
     "data": {
      "text/plain": [
       "array([[37810, 12447],\n",
       "       [20602, 15390]], dtype=int64)"
      ]
     },
     "execution_count": 134,
     "metadata": {},
     "output_type": "execute_result"
    }
   ],
   "source": [
    "confusion_matrix(y_test, predictions)"
   ]
  },
  {
   "cell_type": "code",
   "execution_count": 135,
   "metadata": {},
   "outputs": [],
   "source": [
    "#12447 = false positive (type Im), 20602 = false negative"
   ]
  },
  {
   "cell_type": "code",
   "execution_count": 136,
   "metadata": {},
   "outputs": [
    {
     "name": "stdout",
     "output_type": "stream",
     "text": [
      "0.6168187457245881\n"
     ]
    }
   ],
   "source": [
    "print(metrics.accuracy_score(y_test,predictions))"
   ]
  },
  {
   "cell_type": "code",
   "execution_count": null,
   "metadata": {},
   "outputs": [],
   "source": []
  },
  {
   "cell_type": "code",
   "execution_count": 137,
   "metadata": {},
   "outputs": [],
   "source": [
    "#knn - predictions are made \n",
    "k=KNeighborsClassifier(n_neighbors=1)\n",
    "k.fit(X_train,y_train)\n",
    "#now we have train the model\n",
    "\n",
    "predictions=k.predict(X_test)\n"
   ]
  },
  {
   "cell_type": "code",
   "execution_count": 138,
   "metadata": {},
   "outputs": [
    {
     "name": "stdout",
     "output_type": "stream",
     "text": [
      "              precision    recall  f1-score   support\n",
      "\n",
      "           0       0.62      0.63      0.63     50257\n",
      "           1       0.48      0.47      0.47     35992\n",
      "\n",
      "   micro avg       0.56      0.56      0.56     86249\n",
      "   macro avg       0.55      0.55      0.55     86249\n",
      "weighted avg       0.56      0.56      0.56     86249\n",
      "\n"
     ]
    }
   ],
   "source": [
    "#evalution procces\n",
    "print(classification_report(y_test,predictions))\n"
   ]
  },
  {
   "cell_type": "code",
   "execution_count": 139,
   "metadata": {},
   "outputs": [
    {
     "name": "stdout",
     "output_type": "stream",
     "text": [
      "[[31785 18472]\n",
      " [19108 16884]]\n"
     ]
    }
   ],
   "source": [
    "print(confusion_matrix(y_test, predictions))"
   ]
  },
  {
   "cell_type": "code",
   "execution_count": 140,
   "metadata": {},
   "outputs": [],
   "source": [
    "#18523 = false positive , 19152 = false negative"
   ]
  },
  {
   "cell_type": "code",
   "execution_count": 141,
   "metadata": {},
   "outputs": [
    {
     "name": "stdout",
     "output_type": "stream",
     "text": [
      "0.5642848033020673\n"
     ]
    }
   ],
   "source": [
    "print(metrics.accuracy_score(y_test,predictions))"
   ]
  },
  {
   "cell_type": "code",
   "execution_count": 108,
   "metadata": {},
   "outputs": [],
   "source": [
    "#now ill find the optimum K , was important to me not to copy from Roey notnook, to do it in a other way\n",
    "err_rate = []\n",
    "for i in range(1,30):\n",
    "    k = KNeighborsClassifier(n_neighbors=i)\n",
    "    k.fit(X_train, y_train)\n",
    "    pred_i=k.predict(X_test)\n",
    "    \n",
    "    err_rate.append(np.mean(pred_i !=y_test))"
   ]
  },
  {
   "cell_type": "code",
   "execution_count": 109,
   "metadata": {},
   "outputs": [
    {
     "data": {
      "text/plain": [
       "[<matplotlib.lines.Line2D at 0x201197eecf8>]"
      ]
     },
     "execution_count": 109,
     "metadata": {},
     "output_type": "execute_result"
    },
    {
     "data": {
      "image/png": "[encoded data removed]",
      "text/plain": [
       "<Figure size 432x288 with 1 Axes>"
      ]
     },
     "metadata": {},
     "output_type": "display_data"
    }
   ],
   "source": [
    "plt.plot(range(1,30), err_rate, marker='o')"
   ]
  },
  {
   "cell_type": "code",
   "execution_count": 110,
   "metadata": {},
   "outputs": [],
   "source": [
    "#try k=1 to 30 and record testing accurecy\n"
   ]
  },
  {
   "cell_type": "code",
   "execution_count": 111,
   "metadata": {},
   "outputs": [],
   "source": [
    "#we can learn that k=1 its a bad choice. looks like we need bigger K value. k>30"
   ]
  },
  {
   "cell_type": "code",
   "execution_count": 128,
   "metadata": {},
   "outputs": [
    {
     "name": "stdout",
     "output_type": "stream",
     "text": [
      "              precision    recall  f1-score   support\n",
      "\n",
      "           0       0.65      0.75      0.70     50257\n",
      "           1       0.55      0.43      0.48     35992\n",
      "\n",
      "   micro avg       0.62      0.62      0.62     86249\n",
      "   macro avg       0.60      0.59      0.59     86249\n",
      "weighted avg       0.61      0.62      0.61     86249\n",
      "\n",
      "[[37810 12447]\n",
      " [20602 15390]]\n"
     ]
    }
   ],
   "source": [
    "#knn - predictions are made \n",
    "k=KNeighborsClassifier(n_neighbors=30)\n",
    "k.fit(X_train,y_train)\n",
    "print(classification_report(y_test,predictions))\n",
    "print(confusion_matrix(y_test, predictions))"
   ]
  },
  {
   "cell_type": "code",
   "execution_count": 113,
   "metadata": {},
   "outputs": [],
   "source": [
    "#12447 = false positive , 20602  = false negative\n",
    "#we can improve the model with an other k selection\n"
   ]
  },
  {
   "cell_type": "code",
   "execution_count": 114,
   "metadata": {},
   "outputs": [],
   "source": []
  },
  {
   "cell_type": "code",
   "execution_count": null,
   "metadata": {},
   "outputs": [],
   "source": []
  },
  {
   "cell_type": "code",
   "execution_count": 115,
   "metadata": {},
   "outputs": [],
   "source": [
    "# ONE MORE MODLE THAT I CHOSE\n",
    "dtc=DecisionTreeClassifier()\n",
    "dtc.fit(X_train,y_train)\n",
    "predictions=dtc.predict(X_test)\n",
    "\n"
   ]
  },
  {
   "cell_type": "code",
   "execution_count": 116,
   "metadata": {},
   "outputs": [
    {
     "name": "stdout",
     "output_type": "stream",
     "text": [
      "              precision    recall  f1-score   support\n",
      "\n",
      "           0       0.65      0.75      0.70     50257\n",
      "           1       0.55      0.43      0.48     35992\n",
      "\n",
      "   micro avg       0.62      0.62      0.62     86249\n",
      "   macro avg       0.60      0.59      0.59     86249\n",
      "weighted avg       0.61      0.62      0.61     86249\n",
      "\n"
     ]
    }
   ],
   "source": [
    "print(classification_report(y_test,predictions))"
   ]
  },
  {
   "cell_type": "code",
   "execution_count": 117,
   "metadata": {},
   "outputs": [
    {
     "name": "stdout",
     "output_type": "stream",
     "text": [
      "[[37810 12447]\n",
      " [20602 15390]]\n"
     ]
    }
   ],
   "source": [
    "print(confusion_matrix(y_test, predictions))"
   ]
  },
  {
   "cell_type": "code",
   "execution_count": 118,
   "metadata": {},
   "outputs": [],
   "source": [
    "#12437 = false positive , 20596  = false negative"
   ]
  },
  {
   "cell_type": "code",
   "execution_count": 119,
   "metadata": {},
   "outputs": [
    {
     "name": "stdout",
     "output_type": "stream",
     "text": [
      "0.6168187457245881\n"
     ]
    }
   ],
   "source": [
    "print(metrics.accuracy_score(y_test,predictions))"
   ]
  },
  {
   "cell_type": "code",
   "execution_count": null,
   "metadata": {},
   "outputs": [],
   "source": []
  },
  {
   "cell_type": "code",
   "execution_count": 129,
   "metadata": {},
   "outputs": [
    {
     "data": {
      "text/plain": [
       "0.5826966109751998"
      ]
     },
     "execution_count": 129,
     "metadata": {},
     "output_type": "execute_result"
    }
   ],
   "source": [
    "lr.score(X_test,y_test)"
   ]
  },
  {
   "cell_type": "code",
   "execution_count": 130,
   "metadata": {},
   "outputs": [
    {
     "data": {
      "text/plain": [
       "0.5813683891931404"
      ]
     },
     "execution_count": 130,
     "metadata": {},
     "output_type": "execute_result"
    }
   ],
   "source": [
    "lr.score(X_train,y_train)"
   ]
  },
  {
   "cell_type": "code",
   "execution_count": 131,
   "metadata": {},
   "outputs": [
    {
     "data": {
      "text/plain": [
       "0.6240188292038169"
      ]
     },
     "execution_count": 131,
     "metadata": {},
     "output_type": "execute_result"
    }
   ],
   "source": [
    "k.score(X_test,y_test)"
   ]
  },
  {
   "cell_type": "code",
   "execution_count": 132,
   "metadata": {},
   "outputs": [
    {
     "data": {
      "text/plain": [
       "0.6437802308250196"
      ]
     },
     "execution_count": 132,
     "metadata": {},
     "output_type": "execute_result"
    }
   ],
   "source": [
    "k.score(X_train,y_train)"
   ]
  },
  {
   "cell_type": "code",
   "execution_count": 124,
   "metadata": {},
   "outputs": [
    {
     "data": {
      "text/plain": [
       "0.6168187457245881"
      ]
     },
     "execution_count": 124,
     "metadata": {},
     "output_type": "execute_result"
    }
   ],
   "source": [
    "dtc.score(X_test,y_test)"
   ]
  },
  {
   "cell_type": "code",
   "execution_count": 125,
   "metadata": {},
   "outputs": [
    {
     "data": {
      "text/plain": [
       "0.7002015864223264"
      ]
     },
     "execution_count": 125,
     "metadata": {},
     "output_type": "execute_result"
    }
   ],
   "source": [
    "dtc.score(X_train,y_train)"
   ]
  },
  {
   "cell_type": "code",
   "execution_count": 126,
   "metadata": {},
   "outputs": [],
   "source": [
    "#need to ask myself what those numbers means and the conecttion to bias vs variance.  speaclly the diffrencd train \\test values"
   ]
  },
  {
   "cell_type": "code",
   "execution_count": 127,
   "metadata": {},
   "outputs": [],
   "source": [
    "########################################################################################"
   ]
  },
  {
   "cell_type": "code",
   "execution_count": null,
   "metadata": {},
   "outputs": [],
   "source": []
  },
  {
   "cell_type": "code",
   "execution_count": null,
   "metadata": {},
   "outputs": [],
   "source": []
  },
  {
   "cell_type": "code",
   "execution_count": null,
   "metadata": {},
   "outputs": [],
   "source": []
  },
  {
   "cell_type": "code",
   "execution_count": null,
   "metadata": {},
   "outputs": [],
   "source": []
  },
  {
   "cell_type": "code",
   "execution_count": null,
   "metadata": {},
   "outputs": [],
   "source": []
  },
  {
   "cell_type": "code",
   "execution_count": null,
   "metadata": {},
   "outputs": [],
   "source": []
  }
 ],
 "metadata": {
  "kernelspec": {
   "display_name": "Python 3",
   "language": "python",
   "name": "python3"
  },
  "language_info": {
   "codemirror_mode": {
    "name": "ipython",
    "version": 3
   },
   "file_extension": ".py",
   "mimetype": "text/x-python",
   "name": "python",
   "nbconvert_exporter": "python",
   "pygments_lexer": "ipython3",
   "version": "3.7.1"
  }
 },
 "nbformat": 4,
 "nbformat_minor": 2
}
